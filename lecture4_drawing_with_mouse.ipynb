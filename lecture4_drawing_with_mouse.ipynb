{
 "cells": [
  {
   "cell_type": "code",
   "execution_count": 11,
   "metadata": {},
   "outputs": [],
   "source": [
    "import cv2\n",
    "import numpy as np\n",
    "import matplotlib.pyplot as plt\n",
    "%matplotlib inline\n",
    "\n",
    "def draw_circle (event, x, y, flags, param):\n",
    "    \n",
    "    if (event == cv2.EVENT_LBUTTONDOWN):\n",
    "        cv2.circle(img, (x,y), 5, (255,255,255), -1)\n",
    "\n",
    "img = np.zeros((512, 512, 3)) # Create a black image.\n",
    "cv2.namedWindow(winname = \"Drawing\") # Create window named as \"Drawing\" for future references.\n",
    "cv2.setMouseCallback(\"Drawing\", draw_circle) # Every LMB is clicked, draw_circle function is triggered.\n",
    "\n",
    "while True:\n",
    "    cv2.imshow(\"Drawing\", img)\n",
    "    if (cv2.waitKey(1) & 0xFF == 27): # Waits till any key is pressed and pressed to \"ESC\" button.\n",
    "        break\n",
    "        \n",
    "cv2.destroyAllWindows()\n"
   ]
  },
  {
   "cell_type": "code",
   "execution_count": null,
   "metadata": {},
   "outputs": [],
   "source": []
  }
 ],
 "metadata": {
  "kernelspec": {
   "display_name": "Python 3",
   "language": "python",
   "name": "python3"
  },
  "language_info": {
   "codemirror_mode": {
    "name": "ipython",
    "version": 3
   },
   "file_extension": ".py",
   "mimetype": "text/x-python",
   "name": "python",
   "nbconvert_exporter": "python",
   "pygments_lexer": "ipython3",
   "version": "3.8.3"
  }
 },
 "nbformat": 4,
 "nbformat_minor": 4
}
