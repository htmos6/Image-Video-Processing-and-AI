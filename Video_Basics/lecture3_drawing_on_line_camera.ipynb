{
 "cells": [
  {
   "cell_type": "code",
   "execution_count": 2,
   "metadata": {},
   "outputs": [],
   "source": [
    "import numpy as np\n",
    "import cv2"
   ]
  },
  {
   "cell_type": "code",
   "execution_count": 3,
   "metadata": {},
   "outputs": [],
   "source": [
    "cap = cv2.VideoCapture(0)\n",
    "\n",
    "pt1 = (0 , 0)\n",
    "pt2 = (0 , 0)\n",
    "\n",
    "topLeftClicked = False\n",
    "bottomRightClicked = False\n",
    "\n",
    "\n",
    "def draw_vid(event, x, y, flags, parameters):\n",
    "    global pt1, pt2, topLeftClicked, bottomRightClicked\n",
    "    \n",
    "    if event ==  cv2.EVENT_LBUTTONDOWN:\n",
    "        if topLeftClicked == True and bottomRightClicked == True:\n",
    "            topLeftClicked = False\n",
    "            bottomRightClicked = False\n",
    "            pt1 = (0,0)\n",
    "            pt2 = (0,0)\n",
    "\n",
    "        if topLeftClicked == False:\n",
    "            pt1 = (x,y)\n",
    "            topLeftClicked = True\n",
    "            \n",
    "        elif bottomRightClicked == False:\n",
    "            pt2 = (x,y)\n",
    "            bottomRightClicked = True\n",
    "            \n",
    "cv2.namedWindow('Test Draw')\n",
    "cv2.setMouseCallback('Test Draw', draw_vid)\n",
    "           \n",
    "\n",
    "while True:\n",
    "    ret, frame = cap.read()\n",
    "    \n",
    "    if topLeftClicked:\n",
    "        cv2.circle(frame, pt1, 2, (255, 255, 0), -1)\n",
    "        \n",
    "    if topLeftClicked and bottomRightClicked:\n",
    "        cv2.rectangle(frame, pt1, pt2, (0, 0, 255), 2)\n",
    "        \n",
    "    cv2.imshow('Test Draw', frame)\n",
    "    \n",
    "    if cv2.waitKey(1) & 0xFF == 27:\n",
    "        break\n",
    "        \n",
    "cap.release()\n",
    "cv2.destroyAllWindows()"
   ]
  },
  {
   "cell_type": "code",
   "execution_count": null,
   "metadata": {},
   "outputs": [],
   "source": []
  }
 ],
 "metadata": {
  "kernelspec": {
   "display_name": "Python 3",
   "language": "python",
   "name": "python3"
  },
  "language_info": {
   "codemirror_mode": {
    "name": "ipython",
    "version": 3
   },
   "file_extension": ".py",
   "mimetype": "text/x-python",
   "name": "python",
   "nbconvert_exporter": "python",
   "pygments_lexer": "ipython3",
   "version": "3.8.3"
  }
 },
 "nbformat": 4,
 "nbformat_minor": 4
}
