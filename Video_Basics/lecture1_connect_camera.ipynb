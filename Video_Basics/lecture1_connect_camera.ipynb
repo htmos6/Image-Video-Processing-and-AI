{
 "cells": [
  {
   "cell_type": "code",
   "execution_count": 1,
   "metadata": {},
   "outputs": [],
   "source": [
    "import cv2\n",
    "import matplotlib.pyplot as plt\n",
    "import numpy as np\n",
    "%matplotlib inline"
   ]
  },
  {
   "cell_type": "code",
   "execution_count": 10,
   "metadata": {},
   "outputs": [],
   "source": [
    "cap = cv2.VideoCapture(0)\n",
    "\n",
    "width = int(cap.get(cv2.CAP_PROP_FRAME_WIDTH))\n",
    "height = int(cap.get(cv2.CAP_PROP_FRAME_HEIGHT))\n",
    "frame_ps = int(cap.get(cv2.CAP_PROP_FRAME_COUNT))\n",
    "\n",
    "# Save Video\n",
    "# writer = cv2.VideoWriter('../DATA/s3tudent_capture.mp4', cv2.VideoWriter_fourcc(*'XVID'),25, (width, height))\n",
    "\n",
    "while True:\n",
    "    ret, frame = cap.read()\n",
    "    cv2.imshow('New Window', frame)\n",
    "    \n",
    "    # Save Video\n",
    "    # writer.write(frame)\n",
    "    \n",
    "    if (cv2.waitKey(1) & 0xFF == 27):\n",
    "        break\n",
    "        \n",
    "cap.release()\n",
    "\n",
    "# Save Video\n",
    "# writer.release()\n",
    "\n",
    "cv2.destroyAllWindows()"
   ]
  }
 ],
 "metadata": {
  "kernelspec": {
   "display_name": "Python 3",
   "language": "python",
   "name": "python3"
  }
 },
 "nbformat": 4,
 "nbformat_minor": 4
}
