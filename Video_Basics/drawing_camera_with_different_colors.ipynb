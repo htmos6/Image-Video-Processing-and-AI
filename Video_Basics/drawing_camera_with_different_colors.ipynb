{
 "cells": [
  {
   "cell_type": "code",
   "execution_count": 25,
   "metadata": {},
   "outputs": [],
   "source": [
    "import cv2\n",
    "import time"
   ]
  },
  {
   "cell_type": "code",
   "execution_count": 54,
   "metadata": {},
   "outputs": [],
   "source": [
    "# cap = cv2.VideoCapture(0)\n",
    "# If right mouse button clicked, color of the pen changes. RGB colors are available.R G B. Every 3 click, it turns beginning color",
    "ct = 0\n",
    "drawing = False\n",
    "ptx, pty = None, None\n",
    "\n",
    "def draw_cam(event, x, y, flags, parameters):\n",
    "    global drawing, ptx, pty, color, ct\n",
    "    \n",
    "    if event == cv2.EVENT_LBUTTONDOWN:\n",
    "        drawing = True\n",
    "        ptx, pty = x,y\n",
    "        \n",
    "    if event == cv2.EVENT_RBUTTONDOWN:\n",
    "        if ct % 3 == 0:\n",
    "            color = (255,0,0)\n",
    "            ct += 1\n",
    "        elif ct % 3 == 1:\n",
    "            color = (0,255,0)\n",
    "            ct += 1\n",
    "        elif ct % 3 == 2:\n",
    "            color = (0,0,255)\n",
    "            ct += 1\n",
    "                \n",
    "    elif event == cv2.EVENT_MOUSEMOVE and drawing:\n",
    "        cv2.line(frame, (ptx, pty), (x,y), color, 4)\n",
    "        ptx, pty = x,y\n",
    "        \n",
    "    elif event==cv2.EVENT_LBUTTONUP:\n",
    "        drawing=False\n",
    "        cv2.line(frame, (ptx, pty), (x,y), color, 4) \n",
    "\n",
    "frame = np.ones((512,512,3),  np.uint8)        \n",
    "cv2.namedWindow('test draw')\n",
    "cv2.setMouseCallback('test draw', draw_cam)\n",
    "\n",
    "while True:\n",
    "    # ret, frame = cap.read()\n",
    "    cv2.imshow('test draw', frame)\n",
    "    if cv2.waitKey(1) & 0xFF == 27:\n",
    "        break\n",
    "        \n",
    "# cap.release()\n",
    "cv2.destroyAllWindows()"
   ]
  }
 ],
 "metadata": {
  "kernelspec": {
   "display_name": "Python 3",
   "language": "python",
   "name": "python3"
  },
  "language_info": {
   "codemirror_mode": {
    "name": "ipython",
    "version": 3
   },
   "file_extension": ".py",
   "mimetype": "text/x-python",
   "name": "python",
   "nbconvert_exporter": "python",
   "pygments_lexer": "ipython3",
   "version": "3.8.3"
  }
 },
 "nbformat": 4,
 "nbformat_minor": 4
}
