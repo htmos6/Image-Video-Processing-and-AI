{
 "cells": [
  {
   "cell_type": "code",
   "execution_count": 1,
   "metadata": {},
   "outputs": [],
   "source": [
    "import cv2\n",
    "import matplotlib.pyplot as plt\n",
    "import numpy as np\n",
    "%matplotlib inline"
   ]
  },
  {
   "cell_type": "code",
   "execution_count": 5,
   "metadata": {},
   "outputs": [],
   "source": [
    "drawing = False\n",
    "ix = -1\n",
    "iy = -1\n",
    "\n",
    "def draw_rectangle(event, x, y, flags, parameters):\n",
    "    global ix, iy, drawing # When parameters are changed, update global variables\n",
    "    \n",
    "    if (event == cv2.EVENT_LBUTTONDOWN):\n",
    "        drawing = True\n",
    "        ix, iy = x, y\n",
    "        \n",
    "    elif (event == cv2.EVENT_MOUSEMOVE):\n",
    "        if (drawing):\n",
    "            cv2.rectangle(img, (ix, iy), (x, y), (0, 255, 0), -1)\n",
    "\n",
    "    elif (event == cv2.EVENT_LBUTTONUP):\n",
    "        drawing = False\n",
    "        cv2.rectangle(img, (ix, iy), (x, y), (0, 255, 0), -1)\n",
    "    \n",
    "    \n",
    "img = np.zeros((512, 512, 3))\n",
    "cv2.namedWindow(\"Paint\")\n",
    "cv2.setMouseCallback(\"Paint\", draw_rectangle)\n",
    "\n",
    "while True:\n",
    "    cv2.imshow(\"Paint\", img)\n",
    "    if (cv2.waitKey(1) & 0xFF == 27):\n",
    "        break\n",
    "        \n",
    "cv2.destroyAllWindows()"
   ]
  },
  {
   "cell_type": "code",
   "execution_count": null,
   "metadata": {},
   "outputs": [],
   "source": []
  }
 ],
 "metadata": {
  "kernelspec": {
   "display_name": "Python 3",
   "language": "python",
   "name": "python3"
  },
  "language_info": {
   "codemirror_mode": {
    "name": "ipython",
    "version": 3
   },
   "file_extension": ".py",
   "mimetype": "text/x-python",
   "name": "python",
   "nbconvert_exporter": "python",
   "pygments_lexer": "ipython3",
   "version": "3.8.3"
  }
 },
 "nbformat": 4,
 "nbformat_minor": 4
}
